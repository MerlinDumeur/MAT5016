{
 "cells": [
  {
   "cell_type": "code",
   "execution_count": 15,
   "metadata": {},
   "outputs": [],
   "source": [
    "import scipy as scp"
   ]
  },
  {
   "cell_type": "code",
   "execution_count": 18,
   "metadata": {},
   "outputs": [],
   "source": [
    "from scipy import special"
   ]
  },
  {
   "cell_type": "code",
   "execution_count": 2,
   "metadata": {},
   "outputs": [],
   "source": [
    "import numpy as np"
   ]
  },
  {
   "cell_type": "code",
   "execution_count": 3,
   "metadata": {},
   "outputs": [],
   "source": [
    "from tqdm import tqdm_notebook as tqdm"
   ]
  },
  {
   "cell_type": "code",
   "execution_count": 4,
   "metadata": {},
   "outputs": [],
   "source": [
    "from tqdm import tqdm_notebook"
   ]
  },
  {
   "cell_type": "code",
   "execution_count": 5,
   "metadata": {},
   "outputs": [],
   "source": [
    "import matplotlib.gridspec as gridspec"
   ]
  },
  {
   "cell_type": "code",
   "execution_count": 6,
   "metadata": {},
   "outputs": [],
   "source": [
    "from matplotlib import pyplot as plt\n",
    "%matplotlib inline"
   ]
  },
  {
   "cell_type": "markdown",
   "metadata": {},
   "source": [
    "### Extraction des données"
   ]
  },
  {
   "cell_type": "markdown",
   "metadata": {},
   "source": [
    "##### Binary Alpha Digits"
   ]
  },
  {
   "cell_type": "markdown",
   "metadata": {},
   "source": [
    "Import du fichier .mat\n",
    "\n",
    "référence : https://docs.scipy.org/doc/scipy/reference/tutorial/io.html"
   ]
  },
  {
   "cell_type": "code",
   "execution_count": 3,
   "metadata": {},
   "outputs": [],
   "source": [
    "import scipy.io as sio"
   ]
  },
  {
   "cell_type": "code",
   "execution_count": 89,
   "metadata": {},
   "outputs": [],
   "source": [
    "classlabels = sio.loadmat('binaryalphadigs.mat')['classlabels'][0]\n",
    "np.save('BAD_classlabels.npy',classlabels)"
   ]
  },
  {
   "cell_type": "code",
   "execution_count": 8,
   "metadata": {},
   "outputs": [],
   "source": [
    "dat = sio.loadmat('binaryalphadigs.mat')['dat']\n",
    "np.save('BinaryAlphaDigs.npy',dat)"
   ]
  },
  {
   "cell_type": "code",
   "execution_count": 49,
   "metadata": {},
   "outputs": [
    {
     "data": {
      "image/png": "[encoded data removed]",
      "text/plain": [
       "<Figure size 720x720 with 36 Axes>"
      ]
     },
     "metadata": {},
     "output_type": "display_data"
    }
   ],
   "source": [
    "plt.figure(figsize = (10,10))\n",
    "gs1 = gridspec.GridSpec(6, 6)\n",
    "gs1.update(wspace=0.025, hspace=0.05)\n",
    "\n",
    "for i in range(len(dat)):\n",
    "    \n",
    "    ax = plt.subplot(gs1[i])\n",
    "    ax.axis('off')\n",
    "    ax.imshow(dat[i,np.random.randint(0,len(dat[i])-1)],cmap=plt.cm.gray)\n",
    "    \n",
    "plt.show()"
   ]
  },
  {
   "cell_type": "markdown",
   "metadata": {},
   "source": [
    "##### MNIST"
   ]
  },
  {
   "cell_type": "markdown",
   "metadata": {},
   "source": [
    "from : https://stackoverflow.com/a/53181925"
   ]
  },
  {
   "cell_type": "code",
   "execution_count": 45,
   "metadata": {},
   "outputs": [],
   "source": [
    "import struct"
   ]
  },
  {
   "cell_type": "code",
   "execution_count": 70,
   "metadata": {},
   "outputs": [],
   "source": [
    "def read_images(filename,filesave):\n",
    "    with open(filename,'rb') as f:\n",
    "        magic, size = struct.unpack(\">II\", f.read(8))\n",
    "        nrows, ncols = struct.unpack(\">II\", f.read(8))\n",
    "        data = np.fromfile(f, dtype=np.dtype(np.uint8).newbyteorder('>'))\n",
    "        data = data.reshape((size, nrows, ncols))\n",
    "    np.save(filesave,data)"
   ]
  },
  {
   "cell_type": "code",
   "execution_count": 73,
   "metadata": {},
   "outputs": [],
   "source": [
    "def read_labels(filename,filesave):\n",
    "    with open(filename,'rb') as f:\n",
    "        magic, size = struct.unpack(\">II\", f.read(8))\n",
    "        labels = np.fromfile(f,dtype=np.dtype(np.uint8))\n",
    "    np.save(filesave,labels)"
   ]
  },
  {
   "cell_type": "code",
   "execution_count": 72,
   "metadata": {},
   "outputs": [],
   "source": [
    "read_images('../MNIST/t10k-images-idx3-ubyte','MNIST_test_images.npy')\n",
    "read_images('../MNIST/train-images-idx3-ubyte','MNIST_train_images.npy')"
   ]
  },
  {
   "cell_type": "code",
   "execution_count": 75,
   "metadata": {},
   "outputs": [],
   "source": [
    "read_labels('../MNIST/t10k-labels-idx1-ubyte','MNIST_test_labels.npy')\n",
    "read_labels('../MNIST/train-labels-idx1-ubyte','MNIST_train_labels.npy')"
   ]
  },
  {
   "cell_type": "code",
   "execution_count": 58,
   "metadata": {},
   "outputs": [
    {
     "data": {
      "image/png": "[encoded data removed]",
      "text/plain": [
       "<Figure size 720x288 with 10 Axes>"
      ]
     },
     "metadata": {},
     "output_type": "display_data"
    }
   ],
   "source": [
    "plt.figure(figsize = (10,4))\n",
    "gs1 = gridspec.GridSpec(2, 5)\n",
    "gs1.update(wspace=0.025, hspace=0.05)\n",
    "\n",
    "for i in range(10):\n",
    "    \n",
    "    ax = plt.subplot(gs1[i])\n",
    "    ax.axis('off')\n",
    "    ax.imshow(data[i,:,:],cmap=plt.cm.gray)\n",
    "    \n",
    "plt.show()"
   ]
  },
  {
   "cell_type": "markdown",
   "metadata": {},
   "source": [
    "### Reading npy files"
   ]
  },
  {
   "cell_type": "code",
   "execution_count": 90,
   "metadata": {},
   "outputs": [],
   "source": [
    "AD = np.load('BinaryAlphaDigs.npy')\n",
    "AD_labels = np.load('BAD_classlabels.npy')"
   ]
  },
  {
   "cell_type": "code",
   "execution_count": 78,
   "metadata": {},
   "outputs": [],
   "source": [
    "MNIST_test_images = np.load(\"MNIST_test_images.npy\")\n",
    "MNIST_test_labels = np.load(\"MNIST_test_labels.npy\")\n",
    "MNIST_train_images = np.load(\"MNIST_train_images.npy\")\n",
    "MNIST_train_labels = np.load(\"MNIST_train_labels.npy\")"
   ]
  },
  {
   "cell_type": "markdown",
   "metadata": {},
   "source": [
    "# 3.1 Construction d'un RBM et test sur Binary AlphaDigits"
   ]
  },
  {
   "cell_type": "code",
   "execution_count": 481,
   "metadata": {},
   "outputs": [],
   "source": [
    "def lire_alpha_digit(char_list=None):\n",
    "    \n",
    "    AD = np.load('BinaryAlphaDigs.npy')\n",
    "    AD_labels = np.load('BAD_classlabels.npy')\n",
    "    \n",
    "    array_list = []\n",
    "    \n",
    "    char_list = char_list or AD_labels\n",
    "    \n",
    "#     print(char_list.astype(str))\n",
    "    \n",
    "    for c in np.core.defchararray.upper([*char_list]):\n",
    "        \n",
    "        idx = np.where(AD_labels==c)[0][0]\n",
    "        AD_char = np.array([*AD[idx,:]])\n",
    "        \n",
    "        n = AD_char.shape[0]\n",
    "        m = AD_char.shape[1]*AD_char.shape[2]\n",
    "        \n",
    "        AD_r = AD_char.reshape([n,m])\n",
    "        \n",
    "        array_list.append(AD_r)\n",
    "        \n",
    "    return np.concatenate(array_list)"
   ]
  },
  {
   "cell_type": "code",
   "execution_count": 515,
   "metadata": {},
   "outputs": [],
   "source": [
    "X_6 = lire_alpha_digit(['6'])"
   ]
  },
  {
   "cell_type": "code",
   "execution_count": 482,
   "metadata": {},
   "outputs": [],
   "source": [
    "X = lire_alpha_digit()"
   ]
  },
  {
   "cell_type": "code",
   "execution_count": 706,
   "metadata": {},
   "outputs": [],
   "source": [
    "class RBM:\n",
    "    \n",
    "    f_act = special.expit\n",
    "    \n",
    "    def __init__(self,v_size=320,h_size=10,A=None,B=None,W=None):\n",
    "        \n",
    "        self.v_size=v_size\n",
    "        self.h_size=h_size\n",
    "        \n",
    "        self.A = A or np.zeros(v_size)[:,None]\n",
    "        self.B = B or np.zeros(h_size)[:,None]\n",
    "        self.W = W or np.random.normal(scale=0.1,size=(h_size,v_size))\n",
    "        \n",
    "    def forward(self,x):\n",
    "        \n",
    "        if len(x.shape) == 1:\n",
    "            return self.f_act(self.B + np.dot(self.W,x)[:,None])\n",
    "        else:\n",
    "            return self.f_act(np.tile(self.B,(1,x.shape[1])) + np.dot(self.W,x))\n",
    "    \n",
    "    def backward(self,y):\n",
    "        \n",
    "        if len(y.shape) == 1:\n",
    "            return self.f_act(self.A + np.dot(self.W.T,y)[:,None])\n",
    "        else:\n",
    "            return self.f_act(np.tile(self.A,(1,y.shape[1])) + np.dot(self.W.T,y))\n",
    "    \n",
    "    def contrastive_divergence_1(self,x):\n",
    "        \n",
    "        proba_h_x = self.forward(x)\n",
    "        h_0 = np.random.binomial(1,proba_h_x)\n",
    "        \n",
    "        proba_v_h = self.backward(h_0)\n",
    "        v_1 = np.random.binomial(1,proba_v_h)\n",
    "        \n",
    "        proba_h_v = self.forward(v_1)\n",
    "        \n",
    "        return proba_h_x,proba_v_h,v_1,proba_h_v\n",
    "    \n",
    "    def train(self,X,n_epochs=20,l_r=1.0,batch_size=32,lr_decay=0.5,cold_start=True):\n",
    "        \n",
    "        if cold_start:\n",
    "            \n",
    "            self.A = np.zeros(self.v_size)[:,None]\n",
    "            self.B = np.zeros(self.h_size)[:,None]\n",
    "            self.W = np.random.normal(scale=0.1,size=(self.h_size,self.v_size))\n",
    "        \n",
    "        self.erreur = []\n",
    "        n = X.shape[0]\n",
    "        \n",
    "        for k in tqdm_notebook(range(n_epochs),desc='Epochs'):\n",
    "        \n",
    "            np.random.shuffle(X)\n",
    "\n",
    "            for i in range(int(np.ceil(n/batch_size))):\n",
    "\n",
    "                i_next = (i+1)*batch_size\n",
    "                end = n if i_next > n else i_next\n",
    "                \n",
    "                X_batch = X[i*batch_size:end,:].T\n",
    "                Phx,Pvh,v1,Phv = self.contrastive_divergence_1(X_batch)\n",
    "                \n",
    "                dW = np.dot(Phx,X_batch.T) - np.dot(Phv,v1.T)\n",
    "                dA = np.sum(X_batch,1) - np.sum(v1,1)\n",
    "#                 dA = np.sum(X_batch - v1,1)\n",
    "                dB = np.sum(Phx,1) - np.sum(Phv,1)\n",
    "#                 dB = np.sum(Phx - Phv,1)\n",
    "                \n",
    "                self.W += l_r*dW\n",
    "                self.A += l_r*dA[:,None]\n",
    "                self.B += l_r*dB[:,None]\n",
    "\n",
    "#                 if i == np.ceil(n/batch_size)-1:\n",
    "                self.erreur.append(((X_batch - v1)**2).mean())\n",
    "#                 self.erreur.append(1/(i_next-i)*np.sum(np.linalg.norm(Pvh-X_batch)))\n",
    "                \n",
    "            l_r *= lr_decay\n",
    "            \n",
    "    def show_erreur(self):\n",
    "        \n",
    "        plt.plot(self.erreur)\n",
    "        plt.show()\n",
    "        \n",
    "    def show_random_init(self):\n",
    "        \n",
    "        V = np.random.normal(size=(self.A.shape[0],1))\n",
    "        out = self.backward(self.forward(V))\n",
    "        plt.imshow(np.reshape(out,(20,16)),cmap='gray')\n",
    "        plt.show()\n",
    "        \n",
    "    def show_canonical(self,n_cols=5):\n",
    "        \n",
    "        n = self.B.shape[0]\n",
    "        \n",
    "        plt.figure(figsize=(n_cols*2,n//2))\n",
    "        gs1 = gridspec.GridSpec(int(np.ceil(n/n_cols)), n_cols)\n",
    "        gs1.update(wspace=0.025, hspace=0.025)\n",
    "\n",
    "        for i in range(n):\n",
    "\n",
    "            ax = plt.subplot(gs1[i])\n",
    "            ax.axis('off')\n",
    "            H = np.zeros(shape=self.B.shape)\n",
    "            H[i] = 1\n",
    "            out = self.backward(H)\n",
    "            ax.imshow(np.reshape(out,(20,16)),cmap='gray')\n",
    "            \n",
    "        plt.show()\n",
    "        \n",
    "    def show_from_canonical_h(self,i):\n",
    "        \n",
    "        H = np.zeros(shape=self.B.shape)\n",
    "        H[i] = 1\n",
    "        out = self.backward(H)\n",
    "        plt.imshow(np.reshape(out,(20,16)),cmap='gray')\n",
    "        plt.show()"
   ]
  },
  {
   "cell_type": "code",
   "execution_count": 726,
   "metadata": {},
   "outputs": [],
   "source": [
    "R = RBM(h_size=36)"
   ]
  },
  {
   "cell_type": "code",
   "execution_count": 737,
   "metadata": {},
   "outputs": [
    {
     "data": {
      "application/vnd.jupyter.widget-view+json": {
       "model_id": "46d80af802e548029c61b5301436b65c",
       "version_major": 2,
       "version_minor": 0
      },
      "text/plain": [
       "HBox(children=(IntProgress(value=0, description='Epochs', max=20), HTML(value='')))"
      ]
     },
     "metadata": {},
     "output_type": "display_data"
    }
   ],
   "source": [
    "R.train(X,batch_size=10,n_epochs=20,l_r=0.1,lr_decay=0.5)"
   ]
  },
  {
   "cell_type": "code",
   "execution_count": 738,
   "metadata": {},
   "outputs": [
    {
     "data": {
      "image/png": "[encoded data removed]",
      "text/plain": [
       "<Figure size 432x288 with 1 Axes>"
      ]
     },
     "metadata": {},
     "output_type": "display_data"
    }
   ],
   "source": [
    "R.show_erreur()"
   ]
  },
  {
   "cell_type": "code",
   "execution_count": 739,
   "metadata": {},
   "outputs": [
    {
     "data": {
      "image/png": "[encoded data removed]",
      "text/plain": [
       "<Figure size 432x288 with 1 Axes>"
      ]
     },
     "metadata": {},
     "output_type": "display_data"
    }
   ],
   "source": [
    "R.show_random_init()"
   ]
  },
  {
   "cell_type": "code",
   "execution_count": 740,
   "metadata": {},
   "outputs": [
    {
     "data": {
      "image/png": "[encoded data removed]",
      "text/plain": [
       "<Figure size 720x1296 with 36 Axes>"
      ]
     },
     "metadata": {},
     "output_type": "display_data"
    }
   ],
   "source": [
    "R.show_canonical()"
   ]
  }
 ],
 "metadata": {
  "kernelspec": {
   "display_name": "Python [default]",
   "language": "python",
   "name": "python3"
  },
  "language_info": {
   "codemirror_mode": {
    "name": "ipython",
    "version": 3
   },
   "file_extension": ".py",
   "mimetype": "text/x-python",
   "name": "python",
   "nbconvert_exporter": "python",
   "pygments_lexer": "ipython3",
   "version": "3.6.5"
  }
 },
 "nbformat": 4,
 "nbformat_minor": 2
}
