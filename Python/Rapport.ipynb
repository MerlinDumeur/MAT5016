{
 "cells": [
  {
   "cell_type": "code",
   "execution_count": 1,
   "metadata": {},
   "outputs": [],
   "source": [
    "import numpy as np"
   ]
  },
  {
   "cell_type": "code",
   "execution_count": 2,
   "metadata": {},
   "outputs": [],
   "source": [
    "from tqdm import tqdm_notebook as tqdm"
   ]
  },
  {
   "cell_type": "code",
   "execution_count": 38,
   "metadata": {},
   "outputs": [],
   "source": [
    "import matplotlib.gridspec as gridspec"
   ]
  },
  {
   "cell_type": "code",
   "execution_count": 22,
   "metadata": {},
   "outputs": [],
   "source": [
    "from matplotlib import pyplot as plt\n",
    "%matplotlib inline"
   ]
  },
  {
   "cell_type": "markdown",
   "metadata": {},
   "source": [
    "### Extraction des données"
   ]
  },
  {
   "cell_type": "markdown",
   "metadata": {},
   "source": [
    "##### Binary Alpha Digits"
   ]
  },
  {
   "cell_type": "markdown",
   "metadata": {},
   "source": [
    "Import du fichier .mat\n",
    "\n",
    "référence : https://docs.scipy.org/doc/scipy/reference/tutorial/io.html"
   ]
  },
  {
   "cell_type": "code",
   "execution_count": 3,
   "metadata": {},
   "outputs": [],
   "source": [
    "import scipy.io as sio"
   ]
  },
  {
   "cell_type": "code",
   "execution_count": 89,
   "metadata": {},
   "outputs": [],
   "source": [
    "classlabels = sio.loadmat('binaryalphadigs.mat')['classlabels'][0]\n",
    "np.save('BAD_classlabels.npy',classlabels)"
   ]
  },
  {
   "cell_type": "code",
   "execution_count": 8,
   "metadata": {},
   "outputs": [],
   "source": [
    "dat = sio.loadmat('binaryalphadigs.mat')['dat']\n",
    "np.save('BinaryAlphaDigs.npy',dat)"
   ]
  },
  {
   "cell_type": "code",
   "execution_count": 49,
   "metadata": {},
   "outputs": [
    {
     "data": {
      "image/png": "[encoded data removed]",
      "text/plain": [
       "<Figure size 720x720 with 36 Axes>"
      ]
     },
     "metadata": {},
     "output_type": "display_data"
    }
   ],
   "source": [
    "plt.figure(figsize = (10,10))\n",
    "gs1 = gridspec.GridSpec(6, 6)\n",
    "gs1.update(wspace=0.025, hspace=0.05)\n",
    "\n",
    "for i in range(len(dat)):\n",
    "    \n",
    "    ax = plt.subplot(gs1[i])\n",
    "    ax.axis('off')\n",
    "    ax.imshow(dat[i,np.random.randint(0,len(dat[i])-1)],cmap=plt.cm.gray)\n",
    "    \n",
    "plt.show()"
   ]
  },
  {
   "cell_type": "markdown",
   "metadata": {},
   "source": [
    "##### MNIST"
   ]
  },
  {
   "cell_type": "markdown",
   "metadata": {},
   "source": [
    "from : https://stackoverflow.com/a/53181925"
   ]
  },
  {
   "cell_type": "code",
   "execution_count": 45,
   "metadata": {},
   "outputs": [],
   "source": [
    "import struct"
   ]
  },
  {
   "cell_type": "code",
   "execution_count": 70,
   "metadata": {},
   "outputs": [],
   "source": [
    "def read_images(filename,filesave):\n",
    "    with open(filename,'rb') as f:\n",
    "        magic, size = struct.unpack(\">II\", f.read(8))\n",
    "        nrows, ncols = struct.unpack(\">II\", f.read(8))\n",
    "        data = np.fromfile(f, dtype=np.dtype(np.uint8).newbyteorder('>'))\n",
    "        data = data.reshape((size, nrows, ncols))\n",
    "    np.save(filesave,data)"
   ]
  },
  {
   "cell_type": "code",
   "execution_count": 73,
   "metadata": {},
   "outputs": [],
   "source": [
    "def read_labels(filename,filesave):\n",
    "    with open(filename,'rb') as f:\n",
    "        magic, size = struct.unpack(\">II\", f.read(8))\n",
    "        labels = np.fromfile(f,dtype=np.dtype(np.uint8))\n",
    "    np.save(filesave,labels)"
   ]
  },
  {
   "cell_type": "code",
   "execution_count": 72,
   "metadata": {},
   "outputs": [],
   "source": [
    "read_images('../MNIST/t10k-images-idx3-ubyte','MNIST_test_images.npy')\n",
    "read_images('../MNIST/train-images-idx3-ubyte','MNIST_train_images.npy')"
   ]
  },
  {
   "cell_type": "code",
   "execution_count": 75,
   "metadata": {},
   "outputs": [],
   "source": [
    "read_labels('../MNIST/t10k-labels-idx1-ubyte','MNIST_test_labels.npy')\n",
    "read_labels('../MNIST/train-labels-idx1-ubyte','MNIST_train_labels.npy')"
   ]
  },
  {
   "cell_type": "code",
   "execution_count": 58,
   "metadata": {},
   "outputs": [
    {
     "data": {
      "image/png": "[encoded data removed]",
      "text/plain": [
       "<Figure size 720x288 with 10 Axes>"
      ]
     },
     "metadata": {},
     "output_type": "display_data"
    }
   ],
   "source": [
    "plt.figure(figsize = (10,4))\n",
    "gs1 = gridspec.GridSpec(2, 5)\n",
    "gs1.update(wspace=0.025, hspace=0.05)\n",
    "\n",
    "for i in range(10):\n",
    "    \n",
    "    ax = plt.subplot(gs1[i])\n",
    "    ax.axis('off')\n",
    "    ax.imshow(data[i,:,:],cmap=plt.cm.gray)\n",
    "    \n",
    "plt.show()"
   ]
  },
  {
   "cell_type": "markdown",
   "metadata": {},
   "source": [
    "### Reading npy files"
   ]
  },
  {
   "cell_type": "code",
   "execution_count": 90,
   "metadata": {},
   "outputs": [],
   "source": [
    "AD = np.load('BinaryAlphaDigs.npy')\n",
    "AD_labels = np.load('BAD_classlabels.npy')"
   ]
  },
  {
   "cell_type": "code",
   "execution_count": 78,
   "metadata": {},
   "outputs": [],
   "source": [
    "MNIST_test_images = np.load(\"MNIST_test_images.npy\")\n",
    "MNIST_test_labels = np.load(\"MNIST_test_labels.npy\")\n",
    "MNIST_train_images = np.load(\"MNIST_train_images.npy\")\n",
    "MNIST_train_labels = np.load(\"MNIST_train_labels.npy\")"
   ]
  },
  {
   "cell_type": "markdown",
   "metadata": {},
   "source": [
    "# 3.1 Construction d'un RBM et test sur Binary AlphaDigits"
   ]
  },
  {
   "cell_type": "code",
   "execution_count": 151,
   "metadata": {},
   "outputs": [],
   "source": [
    "def lire_alpha_digit(char_list):\n",
    "    \n",
    "    AD = np.load('BinaryAlphaDigs.npy')\n",
    "    AD_labels = np.load('BAD_classlabels.npy')\n",
    "    \n",
    "    array_list = []\n",
    "    \n",
    "    for c in np.core.defchararray.upper(char_list):\n",
    "        \n",
    "        idx = np.where(AD_labels==c)[0][0]\n",
    "        AD_char = np.array([*AD[0,:]])\n",
    "        \n",
    "        n = AD_char.shape[0]\n",
    "        m = AD_char.shape[1]*AD_char.shape[2]\n",
    "        \n",
    "        AD_r = AD_char.reshape([n,m])\n",
    "        \n",
    "        array_list.append(AD_r)\n",
    "        \n",
    "    return np.concatenate(array_list)"
   ]
  },
  {
   "cell_type": "code",
   "execution_count": 139,
   "metadata": {},
   "outputs": [],
   "source": [
    "lad = lire_alpha_digit(['A','1'])"
   ]
  }
 ],
 "metadata": {
  "kernelspec": {
   "display_name": "Python [default]",
   "language": "python",
   "name": "python3"
  },
  "language_info": {
   "codemirror_mode": {
    "name": "ipython",
    "version": 3
   },
   "file_extension": ".py",
   "mimetype": "text/x-python",
   "name": "python",
   "nbconvert_exporter": "python",
   "pygments_lexer": "ipython3",
   "version": "3.6.5"
  }
 },
 "nbformat": 4,
 "nbformat_minor": 2
}
